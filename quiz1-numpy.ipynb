{
 "cells": [
  {
   "cell_type": "code",
   "execution_count": 39,
   "id": "44065526",
   "metadata": {},
   "outputs": [],
   "source": [
    "#Nhilbert Jay E. Valente\n",
    "#CMSC 197\n",
    "#Quiz 1"
   ]
  },
  {
   "cell_type": "code",
   "execution_count": 1,
   "id": "948dfe08",
   "metadata": {},
   "outputs": [],
   "source": [
    "import numpy as np"
   ]
  },
  {
   "cell_type": "code",
   "execution_count": 10,
   "id": "80ef96c2",
   "metadata": {},
   "outputs": [],
   "source": [
    "#Part1 of the Assignment"
   ]
  },
  {
   "cell_type": "code",
   "execution_count": 12,
   "id": "9c949d3a",
   "metadata": {},
   "outputs": [],
   "source": [
    "#Initializing y_hat with 20 linearly spaced numbers between -1 and 1\n",
    "y_hat = np.linspace(-1, 1, num=20) "
   ]
  },
  {
   "cell_type": "code",
   "execution_count": 8,
   "id": "dc63e044",
   "metadata": {},
   "outputs": [
    {
     "data": {
      "text/plain": [
       "array([-1.        , -0.89473684, -0.78947368, -0.68421053, -0.57894737,\n",
       "       -0.47368421, -0.36842105, -0.26315789, -0.15789474, -0.05263158,\n",
       "        0.05263158,  0.15789474,  0.26315789,  0.36842105,  0.47368421,\n",
       "        0.57894737,  0.68421053,  0.78947368,  0.89473684,  1.        ])"
      ]
     },
     "execution_count": 8,
     "metadata": {},
     "output_type": "execute_result"
    }
   ],
   "source": [
    "y_hat"
   ]
  },
  {
   "cell_type": "code",
   "execution_count": 13,
   "id": "84501d42",
   "metadata": {},
   "outputs": [],
   "source": [
    "#Initializing y with 20 linearly spaced numbers between 0 and 1\n",
    "y = np.linspace(0, 1, num=20)"
   ]
  },
  {
   "cell_type": "code",
   "execution_count": 9,
   "id": "815a612c",
   "metadata": {},
   "outputs": [
    {
     "data": {
      "text/plain": [
       "array([0.        , 0.05263158, 0.10526316, 0.15789474, 0.21052632,\n",
       "       0.26315789, 0.31578947, 0.36842105, 0.42105263, 0.47368421,\n",
       "       0.52631579, 0.57894737, 0.63157895, 0.68421053, 0.73684211,\n",
       "       0.78947368, 0.84210526, 0.89473684, 0.94736842, 1.        ])"
      ]
     },
     "execution_count": 9,
     "metadata": {},
     "output_type": "execute_result"
    }
   ],
   "source": [
    "y"
   ]
  },
  {
   "cell_type": "code",
   "execution_count": 14,
   "id": "df932c3e",
   "metadata": {},
   "outputs": [
    {
     "data": {
      "text/plain": [
       "1"
      ]
     },
     "execution_count": 14,
     "metadata": {},
     "output_type": "execute_result"
    }
   ],
   "source": [
    "#Dimensions of y_hat\n",
    "y_hat.ndim"
   ]
  },
  {
   "cell_type": "code",
   "execution_count": 15,
   "id": "97b105b0",
   "metadata": {},
   "outputs": [
    {
     "data": {
      "text/plain": [
       "1"
      ]
     },
     "execution_count": 15,
     "metadata": {},
     "output_type": "execute_result"
    }
   ],
   "source": [
    "#Dimensions of y\n",
    "y.ndim"
   ]
  },
  {
   "cell_type": "code",
   "execution_count": 16,
   "id": "14dedb2c",
   "metadata": {},
   "outputs": [
    {
     "data": {
      "text/plain": [
       "(20,)"
      ]
     },
     "execution_count": 16,
     "metadata": {},
     "output_type": "execute_result"
    }
   ],
   "source": [
    "#Shape of y_hat\n",
    "y_hat.shape"
   ]
  },
  {
   "cell_type": "code",
   "execution_count": 17,
   "id": "417c111d",
   "metadata": {},
   "outputs": [
    {
     "data": {
      "text/plain": [
       "(20,)"
      ]
     },
     "execution_count": 17,
     "metadata": {},
     "output_type": "execute_result"
    }
   ],
   "source": [
    "#Shape of y\n",
    "y.shape"
   ]
  },
  {
   "cell_type": "code",
   "execution_count": 44,
   "id": "9efd4e90",
   "metadata": {},
   "outputs": [],
   "source": [
    "#Create individual functions for each of the loss functions with y and y_hat as parameters and return the loss value"
   ]
  },
  {
   "cell_type": "code",
   "execution_count": 97,
   "id": "699c3e90",
   "metadata": {},
   "outputs": [],
   "source": [
    "#Mean Squared Error\n",
    "MSE = np.square(np.subtract(y_hat,y)).mean()"
   ]
  },
  {
   "cell_type": "code",
   "execution_count": 123,
   "id": "7e1dfab4",
   "metadata": {},
   "outputs": [
    {
     "name": "stdout",
     "output_type": "stream",
     "text": [
      "0.3421052631578948\n"
     ]
    }
   ],
   "source": [
    "#Loss value of Mean Squared Error\n",
    "L = MSE\n",
    "print(L)"
   ]
  },
  {
   "cell_type": "code",
   "execution_count": 121,
   "id": "d9bbb515",
   "metadata": {},
   "outputs": [],
   "source": [
    "#Mean Absolute Error\n",
    "n = 20\n",
    "sum = 0\n",
    "  \n",
    "# for loop for iteration\n",
    "for i in range(n):\n",
    "    sum += abs(y_hat[i] - y[i])\n",
    "  \n",
    "error = sum/n\n",
    "MAE = float(error)"
   ]
  },
  {
   "cell_type": "code",
   "execution_count": 122,
   "id": "6b63f630",
   "metadata": {},
   "outputs": [
    {
     "name": "stdout",
     "output_type": "stream",
     "text": [
      "0.5000000000000001\n"
     ]
    }
   ],
   "source": [
    "#Loss value of Mean Absolute Error\n",
    "L = MAE\n",
    "print(L)"
   ]
  },
  {
   "cell_type": "code",
   "execution_count": 125,
   "id": "3825ef82",
   "metadata": {},
   "outputs": [],
   "source": [
    "#Mean Squared Logarithmic Error\n",
    "for i in range(n):\n",
    "    sum1 = y_hat[i]+1\n",
    "sum2 = y+1\n",
    "log1 = np.log(sum1)\n",
    "log2 = np.log(sum2)\n",
    "MSLE = np.square(np.subtract(log1,log2)).mean()"
   ]
  },
  {
   "cell_type": "code",
   "execution_count": 126,
   "id": "5bf045f3",
   "metadata": {},
   "outputs": [
    {
     "name": "stdout",
     "output_type": "stream",
     "text": [
      "0.13890524984448185\n"
     ]
    }
   ],
   "source": [
    "#Loss value of Mean Squared Logarithmic Error\n",
    "L = float(MSLE)\n",
    "print(L)"
   ]
  },
  {
   "cell_type": "code",
   "execution_count": 131,
   "id": "ff0a61f1",
   "metadata": {},
   "outputs": [
    {
     "name": "stderr",
     "output_type": "stream",
     "text": [
      "C:\\Users\\JAY\\AppData\\Local\\Temp\\ipykernel_9684\\2528451273.py:7: RuntimeWarning: divide by zero encountered in true_divide\n",
      "  sum += abs(A/B)\n"
     ]
    }
   ],
   "source": [
    "#Mean Absolute Percentage Error\n",
    "A = y_hat - y\n",
    "B = y\n",
    "\n",
    "n = 20\n",
    "for i in range(n):\n",
    "    sum += abs(A/B)\n",
    "    \n",
    "error = 1.00/20\n",
    "MAPE = error*sum"
   ]
  },
  {
   "cell_type": "code",
   "execution_count": 133,
   "id": "28f049d5",
   "metadata": {},
   "outputs": [
    {
     "name": "stdout",
     "output_type": "stream",
     "text": [
      "[inf inf inf inf inf inf inf inf inf inf inf inf inf inf inf inf inf inf\n",
      " inf inf]\n"
     ]
    }
   ],
   "source": [
    "#Loss Value of Mean Absolute Percentage Error\n",
    "L = MAPE\n",
    "print(L)"
   ]
  },
  {
   "cell_type": "code",
   "execution_count": 117,
   "id": "3ecfae39",
   "metadata": {},
   "outputs": [],
   "source": [
    "#Part 2 of the Assignment"
   ]
  },
  {
   "cell_type": "code",
   "execution_count": 118,
   "id": "351666ab",
   "metadata": {},
   "outputs": [],
   "source": [
    "#Creating a 1D array M {1, 2, …16} using the arange function\n",
    "M = np.arange(start=1, stop=17, step=1)"
   ]
  },
  {
   "cell_type": "code",
   "execution_count": 22,
   "id": "ce3e4148",
   "metadata": {},
   "outputs": [
    {
     "data": {
      "text/plain": [
       "array([ 1,  2,  3,  4,  5,  6,  7,  8,  9, 10, 11, 12, 13, 14, 15, 16])"
      ]
     },
     "execution_count": 22,
     "metadata": {},
     "output_type": "execute_result"
    }
   ],
   "source": [
    "M"
   ]
  },
  {
   "cell_type": "code",
   "execution_count": 23,
   "id": "0bb5991a",
   "metadata": {},
   "outputs": [],
   "source": [
    "#Reshaping M into 4x4 array and storing it to N\n",
    "N = M.reshape(4, 4)"
   ]
  },
  {
   "cell_type": "code",
   "execution_count": 24,
   "id": "f3d2a223",
   "metadata": {},
   "outputs": [
    {
     "data": {
      "text/plain": [
       "array([[ 1,  2,  3,  4],\n",
       "       [ 5,  6,  7,  8],\n",
       "       [ 9, 10, 11, 12],\n",
       "       [13, 14, 15, 16]])"
      ]
     },
     "execution_count": 24,
     "metadata": {},
     "output_type": "execute_result"
    }
   ],
   "source": [
    "N"
   ]
  },
  {
   "cell_type": "code",
   "execution_count": 28,
   "id": "456e593c",
   "metadata": {},
   "outputs": [
    {
     "name": "stdout",
     "output_type": "stream",
     "text": [
      "[5 6 7 8]\n"
     ]
    }
   ],
   "source": [
    "#Getting the 2nd row of N\n",
    "print (N[1, :])"
   ]
  },
  {
   "cell_type": "code",
   "execution_count": 30,
   "id": "cc8aa68f",
   "metadata": {},
   "outputs": [
    {
     "data": {
      "text/plain": [
       "array([1, 2, 3, 4])"
      ]
     },
     "execution_count": 30,
     "metadata": {},
     "output_type": "execute_result"
    }
   ],
   "source": [
    "#Minimum values for each column in N\n",
    "np.amin(N, axis=0)"
   ]
  },
  {
   "cell_type": "code",
   "execution_count": 34,
   "id": "47897078",
   "metadata": {},
   "outputs": [
    {
     "name": "stdout",
     "output_type": "stream",
     "text": [
      "(0, 0)\n",
      "(0, 1)\n",
      "(0, 2)\n",
      "(0, 3)\n"
     ]
    }
   ],
   "source": [
    "#Location of minimum values for each column of N\n",
    "result = np.where(N == np.amin(N, axis=0))\n",
    "location = list(zip(result[0], result[1]))\n",
    "for cord in location:\n",
    "    print(cord)"
   ]
  },
  {
   "cell_type": "code",
   "execution_count": 35,
   "id": "f3b81e94",
   "metadata": {},
   "outputs": [
    {
     "data": {
      "text/plain": [
       "8.5"
      ]
     },
     "execution_count": 35,
     "metadata": {},
     "output_type": "execute_result"
    }
   ],
   "source": [
    "#The average of the whole matrix\n",
    "N.mean()"
   ]
  },
  {
   "cell_type": "code",
   "execution_count": 36,
   "id": "edf4629e",
   "metadata": {},
   "outputs": [],
   "source": [
    "#Create a vector V with 4 elements, each element is 1\n",
    "V = [1, 1, 1, 1]"
   ]
  },
  {
   "cell_type": "code",
   "execution_count": 37,
   "id": "1f00bab9",
   "metadata": {},
   "outputs": [
    {
     "data": {
      "text/plain": [
       "[1, 1, 1, 1]"
      ]
     },
     "execution_count": 37,
     "metadata": {},
     "output_type": "execute_result"
    }
   ],
   "source": [
    "V"
   ]
  },
  {
   "cell_type": "code",
   "execution_count": 38,
   "id": "1aadbca4",
   "metadata": {},
   "outputs": [
    {
     "data": {
      "text/plain": [
       "array([10, 26, 42, 58])"
      ]
     },
     "execution_count": 38,
     "metadata": {},
     "output_type": "execute_result"
    }
   ],
   "source": [
    "#The dot product of N and V\n",
    "np.dot(N, V)"
   ]
  }
 ],
 "metadata": {
  "kernelspec": {
   "display_name": "Python 3 (ipykernel)",
   "language": "python",
   "name": "python3"
  },
  "language_info": {
   "codemirror_mode": {
    "name": "ipython",
    "version": 3
   },
   "file_extension": ".py",
   "mimetype": "text/x-python",
   "name": "python",
   "nbconvert_exporter": "python",
   "pygments_lexer": "ipython3",
   "version": "3.9.12"
  }
 },
 "nbformat": 4,
 "nbformat_minor": 5
}
